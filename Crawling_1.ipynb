{
 "cells": [
  {
   "cell_type": "code",
   "execution_count": 1,
   "metadata": {},
   "outputs": [],
   "source": [
    "import bs4\n",
    "import urllib.request as url"
   ]
  },
  {
   "cell_type": "code",
   "execution_count": 2,
   "metadata": {},
   "outputs": [],
   "source": [
    "# if bs4 module is not found then run this command\n",
    "# !pip install bs4"
   ]
  },
  {
   "cell_type": "code",
   "execution_count": 3,
   "metadata": {},
   "outputs": [
    {
     "data": {
      "text/plain": [
       "<http.client.HTTPResponse at 0x16b4b90d208>"
      ]
     },
     "execution_count": 3,
     "metadata": {},
     "output_type": "execute_result"
    }
   ],
   "source": [
    "path = \"https://www.flipkart.com/search?q=tv&otracker=search&otracker1=search&marketplace=FLIPKART&as-show=on&as=off&as-pos=1&as-type=HISTORY\"\n",
    "url.urlopen(path)"
   ]
  },
  {
   "cell_type": "code",
   "execution_count": 4,
   "metadata": {},
   "outputs": [],
   "source": [
    "response = url.urlopen(path)"
   ]
  },
  {
   "cell_type": "code",
   "execution_count": 5,
   "metadata": {},
   "outputs": [],
   "source": [
    "page = bs4.BeautifulSoup(response)"
   ]
  },
  {
   "cell_type": "code",
   "execution_count": 6,
   "metadata": {},
   "outputs": [
    {
     "data": {
      "text/plain": [
       "<div class=\"_3wU53n\">LG 139cm (55 inch) Ultra HD (4K) LED Smart TV  with Nanocell</div>"
      ]
     },
     "execution_count": 6,
     "metadata": {},
     "output_type": "execute_result"
    }
   ],
   "source": [
    "page.find('div', class_='_3wU53n')"
   ]
  },
  {
   "cell_type": "code",
   "execution_count": 7,
   "metadata": {},
   "outputs": [
    {
     "data": {
      "text/plain": [
       "'LG 139cm (55 inch) Ultra HD (4K) LED Smart TV  with Nanocell'"
      ]
     },
     "execution_count": 7,
     "metadata": {},
     "output_type": "execute_result"
    }
   ],
   "source": [
    "page.find('div', class_='_3wU53n').text"
   ]
  },
  {
   "cell_type": "code",
   "execution_count": 8,
   "metadata": {},
   "outputs": [],
   "source": [
    "titlesList = page.find_all('div', class_='_3wU53n')"
   ]
  },
  {
   "cell_type": "code",
   "execution_count": 9,
   "metadata": {},
   "outputs": [
    {
     "data": {
      "text/plain": [
       "24"
      ]
     },
     "execution_count": 9,
     "metadata": {},
     "output_type": "execute_result"
    }
   ],
   "source": [
    "len(titlesList)"
   ]
  },
  {
   "cell_type": "code",
   "execution_count": 12,
   "metadata": {},
   "outputs": [],
   "source": [
    "priceList = page.find_all('div', class_='_1vC4OE _2rQ-NK')"
   ]
  },
  {
   "cell_type": "code",
   "execution_count": 13,
   "metadata": {},
   "outputs": [
    {
     "data": {
      "text/plain": [
       "24"
      ]
     },
     "execution_count": 13,
     "metadata": {},
     "output_type": "execute_result"
    }
   ],
   "source": [
    "len(priceList)"
   ]
  },
  {
   "cell_type": "code",
   "execution_count": 14,
   "metadata": {},
   "outputs": [
    {
     "name": "stdout",
     "output_type": "stream",
     "text": [
      "LG 139cm (55 inch) Ultra HD (4K) LED Smart TV  with Nanocell\n",
      "₹1,05,999\n",
      "********************\n",
      "LG 164cm (65 inch) Ultra HD (4K) LED Smart TV  with Nanocell\n",
      "₹1,64,999\n",
      "********************\n",
      "Mi 4A PRO 80 cm (32) HD Ready LED Smart Android TV With Google Data Saver\n",
      "₹12,499\n",
      "********************\n",
      "Samsung 80cm (32 inch) HD Ready LED Smart TV\n",
      "₹13,999\n",
      "********************\n",
      "Mi 4A 100 cm (40) Full HD LED Smart Android TV With Google Data Saver\n",
      "₹17,999\n",
      "********************\n",
      "Vu Premium 108cm (43 inch) Full HD LED Smart Android TV\n",
      "₹20,999\n",
      "********************\n",
      "Mi 4A Pro 108 cm (43) Full HD LED Smart Android TV With Google Data Saver\n",
      "₹21,999\n",
      "********************\n",
      "Vu Premium 80cm (32 inch) HD Ready LED Smart Android TV\n",
      "₹12,499\n",
      "********************\n",
      "Vu 80cm (32 inch) HD Ready LED TV  with FM Radio\n",
      "₹8,499\n",
      "********************\n",
      "Vu Cinema 108cm (43 inch) Full HD LED Smart Android TV\n",
      "₹22,499\n",
      "********************\n",
      "Samsung 80cm (32 inch) HD Ready LED Smart TV  with Voice Search\n",
      "₹15,999\n",
      "********************\n",
      "Thomson B9 Pro 80cm (32 inch) HD Ready LED Smart TV\n",
      "₹10,499\n",
      "********************\n",
      "Motorola 80.5cm (32 inch) HD Ready LED Smart Android TV  with Wireless Gamepad\n",
      "₹13,999\n",
      "********************\n",
      "LG 123cm (49 inch) Ultra HD (4K) LED Smart TV  with Nanocell\n",
      "₹74,999\n",
      "********************\n",
      "Nokia 139cm (55 inch) Ultra HD (4K) LED Smart Android TV  with Sound by JBL\n",
      "₹41,999\n",
      "********************\n",
      "LG All-in-One 108cm (43 inch) Full HD LED Smart TV\n",
      "₹28,999\n",
      "********************\n",
      "LG All-in-One 80cm (32 inch) HD Ready LED Smart TV\n",
      "₹14,999\n",
      "********************\n",
      "Thomson B9 Pro 102cm (40 inch) Full HD LED Smart TV\n",
      "₹15,999\n",
      "********************\n",
      "Micromax 81cm (32 inch) HD Ready LED TV  with IPS Panel\n",
      "₹9,499\n",
      "********************\n",
      "Motorola 127cm (50 inch) Ultra HD (4K) LED Smart Android TV  with Wireless Gamepad\n",
      "₹33,999\n",
      "********************\n",
      "Thomson R9 60cm (24 inch) HD Ready LED TV\n",
      "₹6,999\n",
      "********************\n",
      "Thomson 108cm (43 inch) Ultra HD (4K) LED Smart Android TV\n",
      "₹24,999\n",
      "********************\n",
      "Nokia 108cm (43 inch) Ultra HD (4K) LED Smart Android TV  with Sound by JBL\n",
      "₹31,999\n",
      "********************\n",
      "Motorola 109cm (43 inch) Ultra HD (4K) LED Smart Android TV  with Wireless Gamepad\n",
      "₹29,999\n",
      "********************\n"
     ]
    }
   ],
   "source": [
    "for i in range(len(priceList)):\n",
    "    print(titlesList[i].text)\n",
    "    print(priceList[i].text)\n",
    "    print(\"*\" * 20)"
   ]
  },
  {
   "cell_type": "code",
   "execution_count": null,
   "metadata": {},
   "outputs": [],
   "source": []
  },
  {
   "cell_type": "code",
   "execution_count": null,
   "metadata": {},
   "outputs": [],
   "source": []
  },
  {
   "cell_type": "code",
   "execution_count": 15,
   "metadata": {},
   "outputs": [],
   "source": [
    "import pandas as pd"
   ]
  },
  {
   "cell_type": "code",
   "execution_count": 18,
   "metadata": {},
   "outputs": [],
   "source": [
    "data = {\"product_name\" : [], \"product_price\" : []}\n",
    "\n",
    "for i in range(len(priceList)):\n",
    "    data['product_name'].append(titlesList[i].text)\n",
    "    data['product_price'].append(priceList[i].text)"
   ]
  },
  {
   "cell_type": "code",
   "execution_count": 20,
   "metadata": {},
   "outputs": [],
   "source": [
    "df = pd.DataFrame(data)"
   ]
  },
  {
   "cell_type": "code",
   "execution_count": 21,
   "metadata": {},
   "outputs": [
    {
     "data": {
      "text/html": [
       "<div>\n",
       "<style scoped>\n",
       "    .dataframe tbody tr th:only-of-type {\n",
       "        vertical-align: middle;\n",
       "    }\n",
       "\n",
       "    .dataframe tbody tr th {\n",
       "        vertical-align: top;\n",
       "    }\n",
       "\n",
       "    .dataframe thead th {\n",
       "        text-align: right;\n",
       "    }\n",
       "</style>\n",
       "<table border=\"1\" class=\"dataframe\">\n",
       "  <thead>\n",
       "    <tr style=\"text-align: right;\">\n",
       "      <th></th>\n",
       "      <th>product_name</th>\n",
       "      <th>product_price</th>\n",
       "    </tr>\n",
       "  </thead>\n",
       "  <tbody>\n",
       "    <tr>\n",
       "      <th>0</th>\n",
       "      <td>LG 139cm (55 inch) Ultra HD (4K) LED Smart TV ...</td>\n",
       "      <td>₹1,05,999</td>\n",
       "    </tr>\n",
       "    <tr>\n",
       "      <th>1</th>\n",
       "      <td>LG 164cm (65 inch) Ultra HD (4K) LED Smart TV ...</td>\n",
       "      <td>₹1,64,999</td>\n",
       "    </tr>\n",
       "    <tr>\n",
       "      <th>2</th>\n",
       "      <td>Mi 4A PRO 80 cm (32) HD Ready LED Smart Androi...</td>\n",
       "      <td>₹12,499</td>\n",
       "    </tr>\n",
       "    <tr>\n",
       "      <th>3</th>\n",
       "      <td>Samsung 80cm (32 inch) HD Ready LED Smart TV</td>\n",
       "      <td>₹13,999</td>\n",
       "    </tr>\n",
       "    <tr>\n",
       "      <th>4</th>\n",
       "      <td>Mi 4A 100 cm (40) Full HD LED Smart Android TV...</td>\n",
       "      <td>₹17,999</td>\n",
       "    </tr>\n",
       "  </tbody>\n",
       "</table>\n",
       "</div>"
      ],
      "text/plain": [
       "                                        product_name product_price\n",
       "0  LG 139cm (55 inch) Ultra HD (4K) LED Smart TV ...     ₹1,05,999\n",
       "1  LG 164cm (65 inch) Ultra HD (4K) LED Smart TV ...     ₹1,64,999\n",
       "2  Mi 4A PRO 80 cm (32) HD Ready LED Smart Androi...       ₹12,499\n",
       "3       Samsung 80cm (32 inch) HD Ready LED Smart TV       ₹13,999\n",
       "4  Mi 4A 100 cm (40) Full HD LED Smart Android TV...       ₹17,999"
      ]
     },
     "execution_count": 21,
     "metadata": {},
     "output_type": "execute_result"
    }
   ],
   "source": [
    "df.head()"
   ]
  },
  {
   "cell_type": "code",
   "execution_count": 22,
   "metadata": {},
   "outputs": [
    {
     "data": {
      "text/html": [
       "<div>\n",
       "<style scoped>\n",
       "    .dataframe tbody tr th:only-of-type {\n",
       "        vertical-align: middle;\n",
       "    }\n",
       "\n",
       "    .dataframe tbody tr th {\n",
       "        vertical-align: top;\n",
       "    }\n",
       "\n",
       "    .dataframe thead th {\n",
       "        text-align: right;\n",
       "    }\n",
       "</style>\n",
       "<table border=\"1\" class=\"dataframe\">\n",
       "  <thead>\n",
       "    <tr style=\"text-align: right;\">\n",
       "      <th></th>\n",
       "      <th>product_name</th>\n",
       "      <th>product_price</th>\n",
       "    </tr>\n",
       "  </thead>\n",
       "  <tbody>\n",
       "    <tr>\n",
       "      <th>19</th>\n",
       "      <td>Motorola 127cm (50 inch) Ultra HD (4K) LED Sma...</td>\n",
       "      <td>₹33,999</td>\n",
       "    </tr>\n",
       "    <tr>\n",
       "      <th>20</th>\n",
       "      <td>Thomson R9 60cm (24 inch) HD Ready LED TV</td>\n",
       "      <td>₹6,999</td>\n",
       "    </tr>\n",
       "    <tr>\n",
       "      <th>21</th>\n",
       "      <td>Thomson 108cm (43 inch) Ultra HD (4K) LED Smar...</td>\n",
       "      <td>₹24,999</td>\n",
       "    </tr>\n",
       "    <tr>\n",
       "      <th>22</th>\n",
       "      <td>Nokia 108cm (43 inch) Ultra HD (4K) LED Smart ...</td>\n",
       "      <td>₹31,999</td>\n",
       "    </tr>\n",
       "    <tr>\n",
       "      <th>23</th>\n",
       "      <td>Motorola 109cm (43 inch) Ultra HD (4K) LED Sma...</td>\n",
       "      <td>₹29,999</td>\n",
       "    </tr>\n",
       "  </tbody>\n",
       "</table>\n",
       "</div>"
      ],
      "text/plain": [
       "                                         product_name product_price\n",
       "19  Motorola 127cm (50 inch) Ultra HD (4K) LED Sma...       ₹33,999\n",
       "20          Thomson R9 60cm (24 inch) HD Ready LED TV        ₹6,999\n",
       "21  Thomson 108cm (43 inch) Ultra HD (4K) LED Smar...       ₹24,999\n",
       "22  Nokia 108cm (43 inch) Ultra HD (4K) LED Smart ...       ₹31,999\n",
       "23  Motorola 109cm (43 inch) Ultra HD (4K) LED Sma...       ₹29,999"
      ]
     },
     "execution_count": 22,
     "metadata": {},
     "output_type": "execute_result"
    }
   ],
   "source": [
    "df.tail()"
   ]
  },
  {
   "cell_type": "code",
   "execution_count": null,
   "metadata": {},
   "outputs": [],
   "source": []
  }
 ],
 "metadata": {
  "kernelspec": {
   "display_name": "Python 3",
   "language": "python",
   "name": "python3"
  },
  "language_info": {
   "codemirror_mode": {
    "name": "ipython",
    "version": 3
   },
   "file_extension": ".py",
   "mimetype": "text/x-python",
   "name": "python",
   "nbconvert_exporter": "python",
   "pygments_lexer": "ipython3",
   "version": "3.7.4"
  }
 },
 "nbformat": 4,
 "nbformat_minor": 4
}
